{
 "cells": [
  {
   "attachments": {
    "qiskit_header.png": {
     "image/png": "[encoded data removed]"
    }
   },
   "cell_type": "markdown",
   "metadata": {},
   "source": [
    "![qiskit_header.png](attachment:qiskit_header.png)"
   ]
  },
  {
   "cell_type": "markdown",
   "metadata": {},
   "source": [
    "# Qiskit Aer: Pulse simulation of a backend model\n",
    "\n",
    "This notebook shows how to use the Aer pulse simulator using a model generated from a backend. In particular, we run a Rabi experiment on the Armonk one qubit backend, then simulate the same experiment on the pulse simulator, calibrating the model parameters to reproduce the results from the real backend.\n",
    "\n",
    "## Table of contents\n",
    "\n",
    "1) [Imports](#imports)\n",
    "\n",
    "\n",
    "2) [Rabi oscillations on `ibmq_armonk`](#rabi)\n",
    "\n",
    "\n",
    "3) [Reproducing Rabi oscillations on the simulator](#simulator)"
   ]
  },
  {
   "cell_type": "markdown",
   "metadata": {},
   "source": [
    "## 1. Imports <a name='imports'></a>"
   ]
  },
  {
   "cell_type": "markdown",
   "metadata": {},
   "source": [
    "Import general libraries:"
   ]
  },
  {
   "cell_type": "code",
   "execution_count": 1,
   "metadata": {},
   "outputs": [],
   "source": [
    "import numpy as np"
   ]
  },
  {
   "cell_type": "markdown",
   "metadata": {},
   "source": [
    "Import `IBMQ`, Rabi experiment generator and fitter from Ignis, and other functions for job submission:"
   ]
  },
  {
   "cell_type": "code",
   "execution_count": 2,
   "metadata": {},
   "outputs": [],
   "source": [
    "from qiskit import IBMQ\n",
    "\n",
    "from qiskit.ignis.characterization.calibrations import rabi_schedules, RabiFitter\n",
    "\n",
    "from qiskit.pulse import DriveChannel\n",
    "from qiskit.compiler import assemble\n",
    "from qiskit.qobj.utils import MeasLevel, MeasReturnType"
   ]
  },
  {
   "cell_type": "markdown",
   "metadata": {},
   "source": [
    "Import `PulseSimulator` and `PulseSystemModel` for pulse simulation:"
   ]
  },
  {
   "cell_type": "code",
   "execution_count": 3,
   "metadata": {},
   "outputs": [],
   "source": [
    "# The pulse simulator\n",
    "from qiskit.providers.aer import PulseSimulator\n",
    "\n",
    "# object for representing physical models\n",
    "from qiskit.providers.aer.pulse import PulseSystemModel"
   ]
  },
  {
   "cell_type": "markdown",
   "metadata": {},
   "source": [
    "# 2. Rabi oscillations on `ibmq_armonk` backend <a name='rabi'></a>\n",
    "\n",
    "First, we run a Rabi experiment on the `ibmq_armonk` backend using Ignis.\n",
    "\n",
    "Get the `ibmq_armonk` backend:"
   ]
  },
  {
   "cell_type": "code",
   "execution_count": 4,
   "metadata": {},
   "outputs": [],
   "source": [
    "provider = IBMQ.load_account()\n",
    "armonk_backend = provider.get_backend('ibmq_armonk')"
   ]
  },
  {
   "cell_type": "markdown",
   "metadata": {},
   "source": [
    "Construct Rabi experiment schedules."
   ]
  },
  {
   "cell_type": "code",
   "execution_count": 5,
   "metadata": {},
   "outputs": [],
   "source": [
    "# qubit list\n",
    "qubits = [0]\n",
    "\n",
    "# drive amplitudes to use\n",
    "num_exps = 64\n",
    "drive_amps = np.linspace(0, 1.0, num_exps)\n",
    "\n",
    "# drive shape parameters\n",
    "drive_duration = 2048\n",
    "drive_sigma = 256\n",
    "\n",
    "# list of drive channels\n",
    "drive_channels = [DriveChannel(0)]\n",
    "\n",
    "# construct the schedules\n",
    "rabi_schedules, xdata = rabi_schedules(amp_list=drive_amps, \n",
    "                                       qubits=qubits, \n",
    "                                       pulse_width=drive_duration, \n",
    "                                       pulse_sigma=drive_sigma,\n",
    "                                       drives=drive_channels, \n",
    "                                       inst_map=armonk_backend.defaults().instruction_schedule_map, \n",
    "                                       meas_map=armonk_backend.configuration().meas_map)"
   ]
  },
  {
   "cell_type": "markdown",
   "metadata": {},
   "source": [
    "Assemble the `qobj` for job submission."
   ]
  },
  {
   "cell_type": "code",
   "execution_count": 6,
   "metadata": {},
   "outputs": [
    {
     "name": "stderr",
     "output_type": "stream",
     "text": [
      "/Users/dpuzzuoli/anaconda3/envs/QiskitDev/lib/python3.7/site-packages/qiskit/providers/models/pulsedefaults.py:155: UserWarning: `qubit_freq_est` and `meas_freq_est` now have units of Hertz(Hz) rather than gigahertz(GHz).\n",
      "  warnings.warn('`qubit_freq_est` and `meas_freq_est` now have units of '\n",
      "/Users/dpuzzuoli/anaconda3/envs/QiskitDev/lib/python3.7/site-packages/qiskit/providers/models/backendconfiguration.py:377: UserWarning: `rep_time` now has units of seconds(s) rather than microseconds(mu s).\n",
      "  warnings.warn('`rep_time` now has units of seconds(s) rather '\n"
     ]
    }
   ],
   "source": [
    "rabi_qobj = assemble(rabi_schedules, \n",
    "                     backend=armonk_backend, \n",
    "                     meas_level=MeasLevel.KERNELED, \n",
    "                     meas_return=MeasReturnType.AVERAGE, \n",
    "                     shots=512)"
   ]
  },
  {
   "cell_type": "markdown",
   "metadata": {},
   "source": [
    "Run the job on the backend."
   ]
  },
  {
   "cell_type": "code",
   "execution_count": 7,
   "metadata": {},
   "outputs": [],
   "source": [
    "job = armonk_backend.run(rabi_qobj)"
   ]
  },
  {
   "cell_type": "code",
   "execution_count": 8,
   "metadata": {},
   "outputs": [
    {
     "data": {
      "text/plain": [
       "<JobStatus.DONE: 'job has successfully run'>"
      ]
     },
     "execution_count": 8,
     "metadata": {},
     "output_type": "execute_result"
    }
   ],
   "source": [
    "job.status()"
   ]
  },
  {
   "cell_type": "code",
   "execution_count": 9,
   "metadata": {},
   "outputs": [],
   "source": [
    "rabi_result = job.result(timeout=3600)"
   ]
  },
  {
   "cell_type": "markdown",
   "metadata": {},
   "source": [
    "Fit and plot the results, getting the $\\pi$-pulse amplitude."
   ]
  },
  {
   "cell_type": "code",
   "execution_count": 10,
   "metadata": {},
   "outputs": [
    {
     "name": "stderr",
     "output_type": "stream",
     "text": [
      "/Users/dpuzzuoli/anaconda3/envs/QiskitDev/lib/python3.7/site-packages/scipy/optimize/minpack.py:795: OptimizeWarning: Covariance of the parameters could not be estimated\n",
      "  category=OptimizeWarning)\n"
     ]
    },
    {
     "name": "stdout",
     "output_type": "stream",
     "text": [
      "Pi Amp: 0.347467\n"
     ]
    },
    {
     "data": {
      "image/png": "[encoded data removed]",
      "text/plain": [
       "<Figure size 432x288 with 1 Axes>"
      ]
     },
     "metadata": {
      "needs_background": "light"
     },
     "output_type": "display_data"
    }
   ],
   "source": [
    "rabi_backend_fit = RabiFitter(rabi_result, xdata, qubits, fit_p0 = [2.0e15, 2, 0, 0])\n",
    "\n",
    "# get the pi amplitude\n",
    "pi_amp = rabi_backend_fit.pi_amplitude(0)\n",
    "\n",
    "# plot\n",
    "rabi_backend_fit.plot(0)\n",
    "print('Pi Amp: %f'%pi_amp)"
   ]
  },
  {
   "cell_type": "markdown",
   "metadata": {},
   "source": [
    "# 3. Reproducing the Rabi oscillations with the simulator <a name='simulator'></a>\n",
    "\n",
    "Next, we run the same experiments on the pulse simulator. This section demonstrates the use of the `PulseSystemModel.from_backend` function for generating `PulseSystemModel` objects from a backend. \n",
    "\n",
    "**Note:** Currently not all system Hamiltonian information is available to the public, missing values have been replaced with $0$. As a result, in this notebook, we need to insert parameters into the backend object by hand. Specifically, we:\n",
    "- Set the frequency of the qubit in the backend provided Hamiltonian to correspond with the backend provided estimate.\n",
    "- Set the value of the drive strength to be consistent with the $\\pi$-pulse amplitude found in the previous section. I.e. The drive strength $r$ is set so that: $r \\times A = \\pi/2$, where $A$ is the area under the $\\pi$-pulse found above."
   ]
  },
  {
   "cell_type": "code",
   "execution_count": 11,
   "metadata": {},
   "outputs": [
    {
     "name": "stderr",
     "output_type": "stream",
     "text": [
      "/Users/dpuzzuoli/anaconda3/envs/QiskitDev/lib/python3.7/site-packages/qiskit/providers/models/backendconfiguration.py:355: UserWarning: `dt` and `dtm` now have units of seconds(s) rather than nanoseconds(ns).\n",
      "  warnings.warn('`dt` and `dtm` now have units of seconds(s) rather '\n"
     ]
    }
   ],
   "source": [
    "# A value to use if previous cells of notebook were not run\n",
    "# pi_amp = 0.347467\n",
    "\n",
    "# Infer the value of the drive strength from the pi pulse amplitude:\n",
    "dt = getattr(armonk_backend.configuration(), 'dt')\n",
    "from qiskit.pulse import pulse_lib\n",
    "sample_array = pulse_lib.gaussian(duration=drive_duration, amp=1, sigma=drive_sigma).samples\n",
    "A = pi_amp*sum(sample_array*dt) # area under curve\n",
    "omegad0 = np.real(np.pi/(A * 2)) # inferred drive strength\n",
    "\n",
    "# set drive strength omegad0 in backend object\n",
    "getattr(armonk_backend.configuration(), 'hamiltonian')['vars']['omegad0'] = omegad0\n",
    "# set the qubit frequency from the estimate in the defaults\n",
    "freq_est = getattr(armonk_backend.defaults(), 'qubit_freq_est')[0]\n",
    "getattr(armonk_backend.configuration(), 'hamiltonian')['vars']['wq0'] = 2*np.pi*freq_est"
   ]
  },
  {
   "cell_type": "markdown",
   "metadata": {},
   "source": [
    "Construct a `PulseSystemModel` object from the backend, and instantiate the simulator."
   ]
  },
  {
   "cell_type": "code",
   "execution_count": 12,
   "metadata": {},
   "outputs": [],
   "source": [
    "armonk_model = PulseSystemModel.from_backend(armonk_backend)\n",
    "\n",
    "backend_sim = PulseSimulator()"
   ]
  },
  {
   "cell_type": "markdown",
   "metadata": {},
   "source": [
    "Assemble schedules as before, but now use `PulseSimulator` as the backend."
   ]
  },
  {
   "cell_type": "code",
   "execution_count": 13,
   "metadata": {},
   "outputs": [],
   "source": [
    "rabi_qobj_sim = assemble(rabi_schedules, \n",
    "                         backend=backend_sim,\n",
    "                         meas_level=1, \n",
    "                         meas_return='avg', \n",
    "                         shots=512)"
   ]
  },
  {
   "cell_type": "markdown",
   "metadata": {},
   "source": [
    "Run the simulation and get the results."
   ]
  },
  {
   "cell_type": "code",
   "execution_count": 14,
   "metadata": {},
   "outputs": [],
   "source": [
    "sim_result = backend_sim.run(rabi_qobj_sim, armonk_model).result()"
   ]
  },
  {
   "cell_type": "markdown",
   "metadata": {},
   "source": [
    "Generate the same plot."
   ]
  },
  {
   "cell_type": "code",
   "execution_count": 15,
   "metadata": {},
   "outputs": [
    {
     "data": {
      "text/plain": [
       "<matplotlib.axes._subplots.AxesSubplot at 0x7f8e35b56b90>"
      ]
     },
     "execution_count": 15,
     "metadata": {},
     "output_type": "execute_result"
    },
    {
     "data": {
      "image/png": "[encoded data removed]",
      "text/plain": [
       "<Figure size 432x288 with 1 Axes>"
      ]
     },
     "metadata": {
      "needs_background": "light"
     },
     "output_type": "display_data"
    }
   ],
   "source": [
    "rabi_sim_fit = RabiFitter(sim_result, xdata, qubits, fit_p0 = [1.5, 2, 0, 0])\n",
    "rabi_sim_fit.plot(0)"
   ]
  },
  {
   "cell_type": "markdown",
   "metadata": {},
   "source": [
    "Observe: the simulated results reproduce the oscillations of the device (the amplitude of the oscillation is arbitrary)."
   ]
  },
  {
   "cell_type": "code",
   "execution_count": 16,
   "metadata": {},
   "outputs": [
    {
     "data": {
      "text/html": [
       "<h3>Version Information</h3><table><tr><th>Qiskit Software</th><th>Version</th></tr><tr><td>Qiskit</td><td>0.13.0</td></tr><tr><td>Terra</td><td>0.13.0</td></tr><tr><td>Aer</td><td>0.5.0</td></tr><tr><td>Ignis</td><td>0.3.0</td></tr><tr><td>Aqua</td><td>0.6.1</td></tr><tr><td>IBM Q Provider</td><td>0.4.6</td></tr><tr><th>System information</th></tr><tr><td>Python</td><td>3.7.6 (default, Jan  8 2020, 13:42:34) \n",
       "[Clang 4.0.1 (tags/RELEASE_401/final)]</td></tr><tr><td>OS</td><td>Darwin</td></tr><tr><td>CPUs</td><td>8</td></tr><tr><td>Memory (Gb)</td><td>32.0</td></tr><tr><td colspan='2'>Wed Feb 19 15:01:44 2020 EST</td></tr></table>"
      ],
      "text/plain": [
       "<IPython.core.display.HTML object>"
      ]
     },
     "metadata": {},
     "output_type": "display_data"
    },
    {
     "data": {
      "text/html": [
       "<div style='width: 100%; background-color:#d5d9e0;padding-left: 10px; padding-bottom: 10px; padding-right: 10px; padding-top: 5px'><h3>This code is a part of Qiskit</h3><p>&copy; Copyright IBM 2017, 2020.</p><p>This code is licensed under the Apache License, Version 2.0. You may<br>obtain a copy of this license in the LICENSE.txt file in the root directory<br> of this source tree or at http://www.apache.org/licenses/LICENSE-2.0.<p>Any modifications or derivative works of this code must retain this<br>copyright notice, and modified files need to carry a notice indicating<br>that they have been altered from the originals.</p></div>"
      ],
      "text/plain": [
       "<IPython.core.display.HTML object>"
      ]
     },
     "metadata": {},
     "output_type": "display_data"
    }
   ],
   "source": [
    "import qiskit.tools.jupyter\n",
    "%qiskit_version_table\n",
    "%qiskit_copyright"
   ]
  }
 ],
 "metadata": {
  "kernelspec": {
   "display_name": "Python 3",
   "language": "python",
   "name": "python3"
  },
  "language_info": {
   "codemirror_mode": {
    "name": "ipython",
    "version": 3
   },
   "file_extension": ".py",
   "mimetype": "text/x-python",
   "name": "python",
   "nbconvert_exporter": "python",
   "pygments_lexer": "ipython3",
   "version": "3.7.6"
  }
 },
 "nbformat": 4,
 "nbformat_minor": 2
}
