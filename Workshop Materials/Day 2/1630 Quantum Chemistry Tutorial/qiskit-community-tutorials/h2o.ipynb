{
 "cells": [
  {
   "cell_type": "markdown",
   "metadata": {},
   "source": [
    "## _*Qiskit Chemistry, H2O ground state computation*_\n",
    "\n",
    "This notebook demonstrates how to use Qiskit Chemistry to compute the ground state energy of a water (H2O) molecule using VQE and UCCSD.\n",
    "\n",
    "While the molecule has been input below to the driver in xyz format, the Z-matrix format is also support. H2O in Z-matrix format would look like this \n",
    "```\n",
    "H; O 1 1.08; H 2 1.08 1 104.5\n",
    "```\n",
    "and is convenient when the goal is to change bond angle, or plot the energy changing distance(s) while preserving the angle.\n",
    "\n",
    "This notebook has been written to use the PYSCF chemistry driver. "
   ]
  },
  {
   "cell_type": "code",
   "execution_count": 1,
   "metadata": {},
   "outputs": [],
   "source": [
    "from qiskit import BasicAer\n",
    "\n",
    "from qiskit.aqua import QuantumInstance\n",
    "from qiskit.aqua.algorithms import VQE, NumPyMinimumEigensolver\n",
    "from qiskit.aqua.components.optimizers import SLSQP\n",
    "\n",
    "from qiskit.chemistry.drivers import PySCFDriver, UnitsType\n",
    "from qiskit.chemistry.core import Hamiltonian, TransformationType, QubitMappingType \n",
    "from qiskit.chemistry.components.variational_forms import UCCSD\n",
    "from qiskit.chemistry.components.initial_states import HartreeFock"
   ]
  },
  {
   "cell_type": "markdown",
   "metadata": {},
   "source": [
    "First we create and run a driver to produce our molecule object. The molecule object holds data from the drivers in a common way so it can then be used independently of which specific driver created it.\n",
    "\n",
    "And let's print some of fields it has. You can refer to qiskit.aqua.qmolecule.py for more information or look at the API documentation."
   ]
  },
  {
   "cell_type": "code",
   "execution_count": 2,
   "metadata": {},
   "outputs": [
    {
     "name": "stdout",
     "output_type": "stream",
     "text": [
      "Hartree-Fock energy: -74.9629466565383\n",
      "Nuclear repulsion energy: 9.193913160623385\n",
      "Number of molecular orbitals: 7\n",
      "Number of alpha electrons: 5\n",
      "Number of beta electrons: 5\n"
     ]
    }
   ],
   "source": [
    "driver = PySCFDriver(atom='O 0.0 0.0 0.0; H 0.757 0.586 0.0; H -0.757 0.586 0.0',\n",
    "                     unit=UnitsType.ANGSTROM, charge=0, spin=0, basis='sto3g')\n",
    "molecule = driver.run()\n",
    "\n",
    "print('Hartree-Fock energy: {}'.format(molecule.hf_energy))\n",
    "print('Nuclear repulsion energy: {}'.format(molecule.nuclear_repulsion_energy))\n",
    "print('Number of molecular orbitals: {}'.format(molecule.num_orbitals))\n",
    "print('Number of alpha electrons: {}'.format(molecule.num_alpha))\n",
    "print('Number of beta electrons: {}'.format(molecule.num_beta))"
   ]
  },
  {
   "cell_type": "markdown",
   "metadata": {},
   "source": [
    "We now need to create a qubit operator as input to compute the ground state energy. The Hamilitonian object can be used. This wraps a `FermionicOperator` class, which can be used directly but entails more steps. Other tutorials here show FermionicOperator being used.\n",
    "\n",
    "The Hamiltonian class not only gives us a qubit operator for the main Hamiltonian but also auxilliary operators including dipole operators and others to measure spin and num particles. The algorithm, if it supports aux_ops, which ExactEignesolver and VQE both do, will evaluate these at the ground state where the minimum energy is found."
   ]
  },
  {
   "cell_type": "code",
   "execution_count": 3,
   "metadata": {},
   "outputs": [
    {
     "name": "stdout",
     "output_type": "stream",
     "text": [
      "Electronic Hamiltonian: Representation: paulis, qubits: 10, size: 551\n"
     ]
    }
   ],
   "source": [
    "core = Hamiltonian(transformation=TransformationType.FULL, qubit_mapping=QubitMappingType.PARITY, \n",
    "                   two_qubit_reduction=True, freeze_core=True)\n",
    "qubit_op, aux_ops = core.run(molecule)\n",
    "\n",
    "print(qubit_op)"
   ]
  },
  {
   "cell_type": "markdown",
   "metadata": {},
   "source": [
    "We now pass these to the NumPyMinimumEigensolver and run it to produce a result. This result will include the computed electronic part of the ground state energy. We can pass this result back to the Hamiltonian object from above and it will combine it with values it stored such as the frozen core energy to form a complete result for the molecule. As can be seen this matches the result from above.\n",
    "\n",
    "Note: the num particles printed here is that which is observed from the spin operator that is in the aux_ops. It says 8 which matches what we expect; the molecule has 10 (5 alpha and 5 beta) but the operator was left with 8 after we took away 2 from freezing the core. The molecule has a core_orbitals property which lists the orbitals comprising the core ones that can be frozen so we can easily figure how many electrons that is (2 per orbital in that list)."
   ]
  },
  {
   "cell_type": "code",
   "execution_count": 4,
   "metadata": {},
   "outputs": [
    {
     "name": "stdout",
     "output_type": "stream",
     "text": [
      "=== GROUND STATE ENERGY ===\n",
      " \n",
      "* Electronic ground state energy (Hartree): -84.206272446428\n",
      "  - computed part:      -23.544497240436\n",
      "  - frozen energy part: -60.661775205992\n",
      "  - particle hole part: 0.0\n",
      "~ Nuclear repulsion energy (Hartree): 9.193913160623\n",
      "> Total ground state energy (Hartree): -75.012359285805\n",
      "  Measured:: # Particles: 8.000 S: 0.000 S^2: 0.000 M: 0.00000\n",
      " \n",
      "=== DIPOLE MOMENT ===\n",
      " \n",
      "* Electronic dipole moment (a.u.): [0.0  1.57867263  0.0]\n",
      "  - computed part:      [0.0  1.57778798  0.0]\n",
      "  - frozen energy part: [0.0  0.00088465  0.0]\n",
      "  - particle hole part: [0.0  0.0  0.0]\n",
      "~ Nuclear dipole moment (a.u.): [0.0  2.21475902  0.0]\n",
      "> Dipole moment (a.u.): [0.0  0.63608639  0.0]  Total: 0.63608639\n",
      "               (debye): [0.0  1.61677018  0.0]  Total: 1.61677018\n"
     ]
    }
   ],
   "source": [
    "ee = NumPyMinimumEigensolver(qubit_op, aux_operators=aux_ops)\n",
    "algo_result = ee.run()\n",
    "result = core.process_algorithm_result(algo_result)\n",
    "print(result)"
   ]
  },
  {
   "cell_type": "markdown",
   "metadata": {},
   "source": [
    "#### Using VQE\n",
    "\n",
    "Here we will start with the qubit operator that we computed above. We need to setup an optimizer, variational form and initial state for use with VQE.\n",
    "\n",
    "The variational form and UCCSD are a little more complex since they need information about numbers of orbitals and numbers of electrons, as well as what qubit mapping etc was used for the qubit operator. However we have some help from the Hamiltonian class that we can use. \n",
    "\n",
    "Note: If you use FermionicOperator directly to make a qubit operator then you need to keep track of electrons removed etc. The molecule object from the driver has the original values but if you freeze out orbitals then the electrons remaining in the operator is what is required."
   ]
  },
  {
   "cell_type": "code",
   "execution_count": 5,
   "metadata": {},
   "outputs": [
    {
     "name": "stdout",
     "output_type": "stream",
     "text": [
      "Ground state energy: -75.01225859234138\n",
      "=== GROUND STATE ENERGY ===\n",
      " \n",
      "* Electronic ground state energy (Hartree): -84.206171752965\n",
      "  - computed part:      -23.544396546972\n",
      "  - frozen energy part: -60.661775205992\n",
      "  - particle hole part: 0.0\n",
      "~ Nuclear repulsion energy (Hartree): 9.193913160623\n",
      "> Total ground state energy (Hartree): -75.012258592341\n",
      "Actual VQE evaluations taken: 666\n"
     ]
    }
   ],
   "source": [
    "init_state = HartreeFock(num_orbitals=core._molecule_info['num_orbitals'],\n",
    "                         num_particles=core._molecule_info['num_particles'],\n",
    "                         qubit_mapping=core._qubit_mapping,\n",
    "                         two_qubit_reduction=core._two_qubit_reduction)\n",
    "\n",
    "var_form = UCCSD(num_orbitals=core._molecule_info['num_orbitals'], \n",
    "                 num_particles=core._molecule_info['num_particles'],\n",
    "                 qubit_mapping=core._qubit_mapping,\n",
    "                 two_qubit_reduction=core._two_qubit_reduction, \n",
    "                 initial_state=init_state)\n",
    "\n",
    "optimizer = SLSQP(maxiter=2500)\n",
    "\n",
    "# setup backend on which we will run\n",
    "backend = BasicAer.get_backend('statevector_simulator')\n",
    "quantum_instance = QuantumInstance(backend=backend)\n",
    "\n",
    "vqe = VQE(qubit_op, var_form, optimizer)\n",
    "algo_result = vqe.run(quantum_instance)\n",
    "result = core.process_algorithm_result(algo_result)\n",
    "\n",
    "print('Ground state energy: {}'.format(result.energy))\n",
    "print(result)\n",
    "print('Actual VQE evaluations taken: {}'.format(algo_result.optimizer_evals))"
   ]
  },
  {
   "cell_type": "markdown",
   "metadata": {},
   "source": [
    "#### Z-matrix format\n",
    "\n",
    "Z-matrix was mentioned in the introduction. Lets show it in use in a quick final example here. We'll use NumPyMinimumEigensolver as the goal here is just to show the technique. We will keep the bond angle between the Hydrogen atoms and Oxygen constant while varying the interatomic distance of one the Hydrogen atoms. This is simple to do in Z-matrix format, though can of course be done using xyz format but that needs more work to compute the coordinates each time."
   ]
  },
  {
   "cell_type": "code",
   "execution_count": 6,
   "metadata": {},
   "outputs": [],
   "source": [
    "import numpy as np\n",
    "import pylab\n",
    "\n",
    "h2o = 'H; O 1 1.08; H 2 {} 1 104.5'\n",
    "\n",
    "distances = [x * 0.01 + 1.00 for x in range(17)]\n",
    "energies = np.empty(len(distances))\n",
    "\n",
    "for i, distance in enumerate(distances):\n",
    "    driver = PySCFDriver(h2o.format(distance), basis='sto3g')\n",
    "    qmolecule = driver.run()\n",
    "    operator =  Hamiltonian(freeze_core=True)\n",
    "    qubit_op, aux_ops = operator.run(qmolecule)\n",
    "    result = NumPyMinimumEigensolver(qubit_op).run()\n",
    "    result = operator.process_algorithm_result(result)\n",
    "    energies[i] = result.energy"
   ]
  },
  {
   "cell_type": "code",
   "execution_count": 7,
   "metadata": {},
   "outputs": [
    {
     "data": {
      "image/png": "[encoded data removed]",
      "text/plain": [
       "<Figure size 432x288 with 1 Axes>"
      ]
     },
     "metadata": {
      "needs_background": "light"
     },
     "output_type": "display_data"
    }
   ],
   "source": [
    "pylab.plot(distances, energies)\n",
    "pylab.xlabel('Distance of Hydrogen atom')\n",
    "pylab.ylabel('Energy')\n",
    "pylab.title('H2O molecule, one H atom distance varied');"
   ]
  },
  {
   "cell_type": "code",
   "execution_count": null,
   "metadata": {},
   "outputs": [],
   "source": []
  }
 ],
 "metadata": {
  "kernelspec": {
   "display_name": "Python 3",
   "language": "python",
   "name": "python3"
  },
  "language_info": {
   "codemirror_mode": {
    "name": "ipython",
    "version": 3
   },
   "file_extension": ".py",
   "mimetype": "text/x-python",
   "name": "python",
   "nbconvert_exporter": "python",
   "pygments_lexer": "ipython3",
   "version": "3.7.4"
  }
 },
 "nbformat": 4,
 "nbformat_minor": 1
}
